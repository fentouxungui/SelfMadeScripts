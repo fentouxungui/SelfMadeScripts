{
 "cells": [
  {
   "cell_type": "code",
   "execution_count": 1,
   "metadata": {
    "execution": {
     "iopub.execute_input": "2022-05-19T03:38:37.960683Z",
     "iopub.status.busy": "2022-05-19T03:38:37.960205Z",
     "iopub.status.idle": "2022-05-19T03:38:40.147999Z",
     "shell.execute_reply": "2022-05-19T03:38:40.147148Z"
    }
   },
   "outputs": [],
   "source": [
    "import loompy\n",
    "import os"
   ]
  },
  {
   "cell_type": "code",
   "execution_count": 2,
   "metadata": {
    "execution": {
     "iopub.execute_input": "2022-05-19T03:38:40.152784Z",
     "iopub.status.busy": "2022-05-19T03:38:40.152624Z",
     "iopub.status.idle": "2022-05-19T03:38:40.163376Z",
     "shell.execute_reply": "2022-05-19T03:38:40.162729Z"
    }
   },
   "outputs": [
    {
     "data": {
      "text/plain": [
       "['/home/xilab/qiannn/scRNAseq/scRNA_Mouse/Cellranger-Outputs/APCmin_Mouse_Colon_Tumor_Mesen_2_210902',\n",
       " '/home/xilab/qiannn/scRNAseq/scRNA_Mouse/Cellranger-Outputs/APCmin_Mouse_duo-jeju_Tumor_Mesen_210721',\n",
       " '/home/xilab/qiannn/scRNAseq/scRNA_Mouse/Cellranger-Outputs/APCmin_Mouse_jeju_Para_Epi_200421',\n",
       " '/home/xilab/qiannn/scRNAseq/scRNA_Mouse/Cellranger-Outputs/APCmin_Mouse_duo-jeju_Para_Mesen_210426',\n",
       " '/home/xilab/qiannn/scRNAseq/scRNA_Mouse/Cellranger-Outputs/APCmin_LI_DSS_Runx1_Tu_Epi_Rep1_220511',\n",
       " '/home/xilab/qiannn/scRNAseq/scRNA_Mouse/Cellranger-Outputs/APCmin_Mouse_Colon_Tumor_Mesen_3_211018',\n",
       " '/home/xilab/qiannn/scRNAseq/scRNA_Mouse/Cellranger-Outputs/APCmin_Mouse_duo-jeju_Para_Mesen_210721',\n",
       " '/home/xilab/qiannn/scRNAseq/scRNA_Mouse/Cellranger-Outputs/APCmin_Mouse_jeju_Tumor_Epi_200421',\n",
       " '/home/xilab/qiannn/scRNAseq/scRNA_Mouse/Cellranger-Outputs/APCmin_LI_DSS_Ctrl_Para_Epi_Rep1_220511',\n",
       " '/home/xilab/qiannn/scRNAseq/scRNA_Mouse/Cellranger-Outputs/APCmin_LI_DSS_Ctrl_Tu_Epi_Rep1_220511',\n",
       " '/home/xilab/qiannn/scRNAseq/scRNA_Mouse/Cellranger-Outputs/APCmin_Mouse_duo_Tumor_Epi_200421',\n",
       " '/home/xilab/qiannn/scRNAseq/scRNA_Mouse/Cellranger-Outputs/APCmin_Mouse_duo_Para_Mesen_200421',\n",
       " '/home/xilab/qiannn/scRNAseq/scRNA_Mouse/Cellranger-Outputs/APCmin_Mouse_Colon_Tumor_Mesen_210608',\n",
       " '/home/xilab/qiannn/scRNAseq/scRNA_Mouse/Cellranger-Outputs/APCmin_Mouse_duo_Para_Epi_200421',\n",
       " '/home/xilab/qiannn/scRNAseq/scRNA_Mouse/Cellranger-Outputs/APCmin_Mouse_jeju_Tumor_Mesen_200421',\n",
       " '/home/xilab/qiannn/scRNAseq/scRNA_Mouse/Cellranger-Outputs/APCmin_Mouse_duo_Tumor_Mesen_200421',\n",
       " '/home/xilab/qiannn/scRNAseq/scRNA_Mouse/Cellranger-Outputs/APCmin_Mouse_Colon_Para_Mesen_2_210902',\n",
       " '/home/xilab/qiannn/scRNAseq/scRNA_Mouse/Cellranger-Outputs/APCmin_Mouse_duo-jeju_Tumor_Mesen_210426',\n",
       " '/home/xilab/qiannn/scRNAseq/scRNA_Mouse/Cellranger-Outputs/APCmin_Mouse_Colon_Para_Mesen_210608',\n",
       " '/home/xilab/qiannn/scRNAseq/scRNA_Mouse/Cellranger-Outputs/APCmin_Mouse_jeju_Para_Mesen_200421',\n",
       " '/home/xilab/qiannn/scRNAseq/scRNA_Mouse/Cellranger-Outputs/APCmin_LI_DSS_Runx1_Para_Epi_Rep1_220511']"
      ]
     },
     "execution_count": 2,
     "metadata": {},
     "output_type": "execute_result"
    }
   ],
   "source": [
    "cellranger_dir = \"/home/xilab/qiannn/scRNAseq/scRNA_Mouse/Cellranger-Outputs/\"\n",
    "sample_dirs = []\n",
    "for i in os.listdir(cellranger_dir):\n",
    "    if os.path.isdir(cellranger_dir +  i):\n",
    "        sample_dirs.append(cellranger_dir + i)\n",
    "sample_dirs"
   ]
  },
  {
   "cell_type": "code",
   "execution_count": 3,
   "metadata": {
    "execution": {
     "iopub.execute_input": "2022-05-19T03:38:40.212105Z",
     "iopub.status.busy": "2022-05-19T03:38:40.211913Z",
     "iopub.status.idle": "2022-05-19T03:38:40.222847Z",
     "shell.execute_reply": "2022-05-19T03:38:40.222225Z"
    }
   },
   "outputs": [
    {
     "name": "stdout",
     "output_type": "stream",
     "text": [
      "/home/xilab/qiannn/scRNAseq/scRNA_Mouse/Cellranger-Outputs/APCmin_LI_DSS_Runx1_Tu_Epi_Rep1_220511\n",
      "Done!\n",
      "/home/xilab/qiannn/scRNAseq/scRNA_Mouse/Cellranger-Outputs/APCmin_LI_DSS_Ctrl_Para_Epi_Rep1_220511\n",
      "Done!\n",
      "/home/xilab/qiannn/scRNAseq/scRNA_Mouse/Cellranger-Outputs/APCmin_LI_DSS_Ctrl_Tu_Epi_Rep1_220511\n",
      "Done!\n",
      "/home/xilab/qiannn/scRNAseq/scRNA_Mouse/Cellranger-Outputs/APCmin_LI_DSS_Runx1_Para_Epi_Rep1_220511\n",
      "Done!\n"
     ]
    },
    {
     "data": {
      "text/plain": [
       "['/home/xilab/qiannn/scRNAseq/scRNA_Mouse/Cellranger-Outputs/APCmin_LI_DSS_Runx1_Tu_Epi_Rep1_220511/velocyto/APCmin_LI_DSS_Runx1_Tu_Epi_Rep1_220511.loom',\n",
       " '/home/xilab/qiannn/scRNAseq/scRNA_Mouse/Cellranger-Outputs/APCmin_LI_DSS_Ctrl_Para_Epi_Rep1_220511/velocyto/APCmin_LI_DSS_Ctrl_Para_Epi_Rep1_220511.loom',\n",
       " '/home/xilab/qiannn/scRNAseq/scRNA_Mouse/Cellranger-Outputs/APCmin_LI_DSS_Ctrl_Tu_Epi_Rep1_220511/velocyto/APCmin_LI_DSS_Ctrl_Tu_Epi_Rep1_220511.loom',\n",
       " '/home/xilab/qiannn/scRNAseq/scRNA_Mouse/Cellranger-Outputs/APCmin_LI_DSS_Runx1_Para_Epi_Rep1_220511/velocyto/APCmin_LI_DSS_Runx1_Para_Epi_Rep1_220511.loom']"
      ]
     },
     "execution_count": 3,
     "metadata": {},
     "output_type": "execute_result"
    }
   ],
   "source": [
    "loom_files = []\n",
    "for i in sample_dirs:\n",
    "    if os.path.basename(i).startswith(\"APCmin_LI_DSS\"):\n",
    "        if os.path.exists(i + \"/velocyto\"):\n",
    "            print(i)\n",
    "            if os.path.exists(i + \"/velocyto/\" + os.path.basename(i) + \".loom\"):\n",
    "                loom_files.append(i + \"/velocyto/\" + os.path.basename(i) + \".loom\")\n",
    "                print(\"Done!\")\n",
    "            else:\n",
    "                print(\"Not finished analysis!\")\n",
    "loom_files"
   ]
  },
  {
   "cell_type": "code",
   "execution_count": 4,
   "metadata": {
    "execution": {
     "iopub.execute_input": "2022-05-19T03:38:40.226086Z",
     "iopub.status.busy": "2022-05-19T03:38:40.225803Z",
     "iopub.status.idle": "2022-05-19T03:38:40.229430Z",
     "shell.execute_reply": "2022-05-19T03:38:40.228834Z"
    }
   },
   "outputs": [],
   "source": [
    "results_dir = \"./4.4-scVelo\"\n",
    "if not os.path.exists(results_dir):\n",
    "    os.mkdir(results_dir)"
   ]
  },
  {
   "cell_type": "code",
   "execution_count": 5,
   "metadata": {
    "execution": {
     "iopub.execute_input": "2022-05-19T03:38:40.232405Z",
     "iopub.status.busy": "2022-05-19T03:38:40.232125Z",
     "iopub.status.idle": "2022-05-19T03:40:57.012214Z",
     "shell.execute_reply": "2022-05-19T03:40:57.011371Z"
    }
   },
   "outputs": [
    {
     "name": "stderr",
     "output_type": "stream",
     "text": [
      "WARNING:root:╭── 'batch_scan_layers' is deprecated. Use 'scan' instead\n",
      "WARNING:root:╰──> at /home/xilab/miniconda3/envs/scanpy-latest-py38/lib/python3.8/site-packages/loompy/loompy.py, line 465\n",
      "WARNING:root:╭── 'batch_scan_layers' is deprecated. Use 'scan' instead\n",
      "WARNING:root:╰──> at /home/xilab/miniconda3/envs/scanpy-latest-py38/lib/python3.8/site-packages/loompy/loompy.py, line 465\n",
      "WARNING:root:╭── 'batch_scan_layers' is deprecated. Use 'scan' instead\n",
      "WARNING:root:╰──> at /home/xilab/miniconda3/envs/scanpy-latest-py38/lib/python3.8/site-packages/loompy/loompy.py, line 465\n"
     ]
    }
   ],
   "source": [
    "loompy.combine(loom_files,results_dir + \"/merged.loom\")"
   ]
  },
  {
   "cell_type": "code",
   "execution_count": 6,
   "metadata": {
    "execution": {
     "iopub.execute_input": "2022-05-19T03:40:57.017150Z",
     "iopub.status.busy": "2022-05-19T03:40:57.016948Z",
     "iopub.status.idle": "2022-05-19T03:40:57.020401Z",
     "shell.execute_reply": "2022-05-19T03:40:57.019839Z"
    }
   },
   "outputs": [],
   "source": [
    "# ds = loompy.connect(results_dir + \"/merged.loom\")\n",
    "# print(ds.attrs.keys())\n",
    "# print(ds.layers.keys())\n",
    "# print(ds.ca.keys())\n",
    "# ds.shape\n",
    "# ds.ra.keys()\n",
    "# ds.ca[\"CellID\"]\n",
    "# ds.ra[\"Gene\"]\n",
    "# ds.ca.keys()\n",
    "# ds.ca[\"Clusters\"]"
   ]
  },
  {
   "cell_type": "code",
   "execution_count": null,
   "metadata": {},
   "outputs": [],
   "source": []
  }
 ],
 "metadata": {
  "kernelspec": {
   "display_name": "Python 3",
   "language": "python",
   "name": "python3"
  },
  "language_info": {
   "codemirror_mode": {
    "name": "ipython",
    "version": 3
   },
   "file_extension": ".py",
   "mimetype": "text/x-python",
   "name": "python",
   "nbconvert_exporter": "python",
   "pygments_lexer": "ipython3",
   "version": "3.8.0"
  }
 },
 "nbformat": 4,
 "nbformat_minor": 4
}
