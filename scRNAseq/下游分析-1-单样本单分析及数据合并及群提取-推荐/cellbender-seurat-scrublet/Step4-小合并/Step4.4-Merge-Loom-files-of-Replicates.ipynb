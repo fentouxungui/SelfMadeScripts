{
 "cells": [
  {
   "cell_type": "code",
   "execution_count": 1,
   "metadata": {},
   "outputs": [
    {
     "name": "stderr",
     "output_type": "stream",
     "text": [
      "/home/xilab/miniconda3/envs/py37/lib/python3.7/site-packages/numba/np/ufunc/parallel.py:355: NumbaWarning: The TBB threading layer requires TBB version 2019.5 or later i.e., TBB_INTERFACE_VERSION >= 11005. Found TBB_INTERFACE_VERSION = 6103. The TBB threading layer is disabled.\n",
      "  warnings.warn(problem)\n"
     ]
    }
   ],
   "source": [
    "import loompy\n",
    "import os\n",
    "import pandas as pd"
   ]
  },
  {
   "cell_type": "code",
   "execution_count": 2,
   "metadata": {},
   "outputs": [
    {
     "data": {
      "text/plain": [
       "['/home/xilab/jinz/Mouse-All-Merged-By-Day-scRNAseq/CellRanger-Outputs/E_LI_D115_B2',\n",
       " '/home/xilab/jinz/Mouse-All-Merged-By-Day-scRNAseq/CellRanger-Outputs/P_LI_DAdult_B1',\n",
       " '/home/xilab/jinz/Mouse-All-Merged-By-Day-scRNAseq/CellRanger-Outputs/E_SI_D195_B1',\n",
       " '/home/xilab/jinz/Mouse-All-Merged-By-Day-scRNAseq/CellRanger-Outputs/Mouse_Adult_Colon_DSS_R1',\n",
       " '/home/xilab/jinz/Mouse-All-Merged-By-Day-scRNAseq/CellRanger-Outputs/P_LI_D1_B1',\n",
       " '/home/xilab/jinz/Mouse-All-Merged-By-Day-scRNAseq/CellRanger-Outputs/E_SI_D115_B2',\n",
       " '/home/xilab/jinz/Mouse-All-Merged-By-Day-scRNAseq/CellRanger-Outputs/E_LI_D145_B1',\n",
       " '/home/xilab/jinz/Mouse-All-Merged-By-Day-scRNAseq/CellRanger-Outputs/E_SI_D135_B1',\n",
       " '/home/xilab/jinz/Mouse-All-Merged-By-Day-scRNAseq/CellRanger-Outputs/E_SI_D125_B1',\n",
       " '/home/xilab/jinz/Mouse-All-Merged-By-Day-scRNAseq/CellRanger-Outputs/E_SI_D145_B0',\n",
       " '/home/xilab/jinz/Mouse-All-Merged-By-Day-scRNAseq/CellRanger-Outputs/P_SI_D7_B0',\n",
       " '/home/xilab/jinz/Mouse-All-Merged-By-Day-scRNAseq/CellRanger-Outputs/P_SI_D1_B0',\n",
       " '/home/xilab/jinz/Mouse-All-Merged-By-Day-scRNAseq/CellRanger-Outputs/E_SI_D195_B0',\n",
       " '/home/xilab/jinz/Mouse-All-Merged-By-Day-scRNAseq/CellRanger-Outputs/P_SI_D21_B0',\n",
       " '/home/xilab/jinz/Mouse-All-Merged-By-Day-scRNAseq/CellRanger-Outputs/E_LI_D125_B1',\n",
       " '/home/xilab/jinz/Mouse-All-Merged-By-Day-scRNAseq/CellRanger-Outputs/Mouse_Embryo_Hindgut_E155_R1',\n",
       " '/home/xilab/jinz/Mouse-All-Merged-By-Day-scRNAseq/CellRanger-Outputs/E_SI_D135_B3',\n",
       " '/home/xilab/jinz/Mouse-All-Merged-By-Day-scRNAseq/CellRanger-Outputs/E_SI_D135_B2',\n",
       " '/home/xilab/jinz/Mouse-All-Merged-By-Day-scRNAseq/CellRanger-Outputs/E_LI_D125_B2',\n",
       " '/home/xilab/jinz/Mouse-All-Merged-By-Day-scRNAseq/CellRanger-Outputs/E_SI_D125_B2',\n",
       " '/home/xilab/jinz/Mouse-All-Merged-By-Day-scRNAseq/CellRanger-Outputs/E_LI_D195_B1',\n",
       " '/home/xilab/jinz/Mouse-All-Merged-By-Day-scRNAseq/CellRanger-Outputs/E_LI_D145_B2',\n",
       " '/home/xilab/jinz/Mouse-All-Merged-By-Day-scRNAseq/CellRanger-Outputs/E_SI_D115_B1',\n",
       " '/home/xilab/jinz/Mouse-All-Merged-By-Day-scRNAseq/CellRanger-Outputs/E_SI_D195_B2',\n",
       " '/home/xilab/jinz/Mouse-All-Merged-By-Day-scRNAseq/CellRanger-Outputs/P_LI_D21_B2Merge',\n",
       " '/home/xilab/jinz/Mouse-All-Merged-By-Day-scRNAseq/CellRanger-Outputs/P_LI_D7_B1Merge',\n",
       " '/home/xilab/jinz/Mouse-All-Merged-By-Day-scRNAseq/CellRanger-Outputs/E_SI_D155_B0',\n",
       " '/home/xilab/jinz/Mouse-All-Merged-By-Day-scRNAseq/CellRanger-Outputs/Mouse_Embryo_Hindgut_E145_R1',\n",
       " '/home/xilab/jinz/Mouse-All-Merged-By-Day-scRNAseq/CellRanger-Outputs/P_LI_D1_B2',\n",
       " '/home/xilab/jinz/Mouse-All-Merged-By-Day-scRNAseq/CellRanger-Outputs/Mouse_Embryo_Hindgut_E185_R1',\n",
       " '/home/xilab/jinz/Mouse-All-Merged-By-Day-scRNAseq/CellRanger-Outputs/E_LI_D115_B1',\n",
       " '/home/xilab/jinz/Mouse-All-Merged-By-Day-scRNAseq/CellRanger-Outputs/P_SI_DAdult_B0',\n",
       " '/home/xilab/jinz/Mouse-All-Merged-By-Day-scRNAseq/CellRanger-Outputs/E_LI_D155_B1',\n",
       " '/home/xilab/jinz/Mouse-All-Merged-By-Day-scRNAseq/CellRanger-Outputs/E_LI_D135_B1']"
      ]
     },
     "execution_count": 2,
     "metadata": {},
     "output_type": "execute_result"
    }
   ],
   "source": [
    "cellranger_dir = \"/home/xilab/jinz/Mouse-All-Merged-By-Day-scRNAseq/CellRanger-Outputs/\"\n",
    "sample_dirs = []\n",
    "for i in os.listdir(cellranger_dir):\n",
    "    if os.path.isdir(cellranger_dir +  i):\n",
    "        sample_dirs.append(cellranger_dir + i)\n",
    "sample_dirs"
   ]
  },
  {
   "cell_type": "code",
   "execution_count": 3,
   "metadata": {},
   "outputs": [],
   "source": [
    "cell_clusters = pd.read_csv(\"./4.4-scVelo/clusters.csv\")\n",
    "selected_samples = cell_clusters[\"orig.ident\"].unique()"
   ]
  },
  {
   "cell_type": "code",
   "execution_count": 4,
   "metadata": {},
   "outputs": [
    {
     "name": "stdout",
     "output_type": "stream",
     "text": [
      "/home/xilab/jinz/Mouse-All-Merged-By-Day-scRNAseq/CellRanger-Outputs/E_LI_D115_B2\n",
      "Done!\n",
      "/home/xilab/jinz/Mouse-All-Merged-By-Day-scRNAseq/CellRanger-Outputs/E_SI_D115_B2\n",
      "Done!\n",
      "/home/xilab/jinz/Mouse-All-Merged-By-Day-scRNAseq/CellRanger-Outputs/E_SI_D115_B1\n",
      "Done!\n",
      "/home/xilab/jinz/Mouse-All-Merged-By-Day-scRNAseq/CellRanger-Outputs/E_LI_D115_B1\n",
      "Done!\n"
     ]
    },
    {
     "data": {
      "text/plain": [
       "['/home/xilab/jinz/Mouse-All-Merged-By-Day-scRNAseq/CellRanger-Outputs/E_LI_D115_B2/velocyto/E_LI_D115_B2.loom',\n",
       " '/home/xilab/jinz/Mouse-All-Merged-By-Day-scRNAseq/CellRanger-Outputs/E_SI_D115_B2/velocyto/E_SI_D115_B2.loom',\n",
       " '/home/xilab/jinz/Mouse-All-Merged-By-Day-scRNAseq/CellRanger-Outputs/E_SI_D115_B1/velocyto/E_SI_D115_B1.loom',\n",
       " '/home/xilab/jinz/Mouse-All-Merged-By-Day-scRNAseq/CellRanger-Outputs/E_LI_D115_B1/velocyto/E_LI_D115_B1.loom']"
      ]
     },
     "execution_count": 4,
     "metadata": {},
     "output_type": "execute_result"
    }
   ],
   "source": [
    "loom_files = []\n",
    "for i in sample_dirs:\n",
    "    if os.path.basename(i) not in selected_samples:\n",
    "        continue\n",
    "    if os.path.exists(i + \"/velocyto\"):\n",
    "        print(i)\n",
    "        if os.path.exists(i + \"/velocyto/\" + os.path.basename(i) + \".loom\"):\n",
    "            loom_files.append(i + \"/velocyto/\" + os.path.basename(i) + \".loom\")\n",
    "            print(\"Done!\")\n",
    "        else:\n",
    "            print(\"Not finished analysis!\")\n",
    "loom_files"
   ]
  },
  {
   "cell_type": "code",
   "execution_count": 5,
   "metadata": {},
   "outputs": [],
   "source": [
    "results_dir = \"./4.4-scVelo\"\n",
    "if not os.path.exists(results_dir):\n",
    "    os.mkdir(results_dir)"
   ]
  },
  {
   "cell_type": "code",
   "execution_count": 6,
   "metadata": {},
   "outputs": [
    {
     "name": "stderr",
     "output_type": "stream",
     "text": [
      "WARNING:root:╭── 'batch_scan_layers' is deprecated. Use 'scan' instead\n",
      "WARNING:root:╰──> at /home/xilab/miniconda3/envs/py37/lib/python3.7/site-packages/loompy/loompy.py, line 465\n",
      "WARNING:root:╭── 'batch_scan_layers' is deprecated. Use 'scan' instead\n",
      "WARNING:root:╰──> at /home/xilab/miniconda3/envs/py37/lib/python3.7/site-packages/loompy/loompy.py, line 465\n",
      "WARNING:root:╭── 'batch_scan_layers' is deprecated. Use 'scan' instead\n",
      "WARNING:root:╰──> at /home/xilab/miniconda3/envs/py37/lib/python3.7/site-packages/loompy/loompy.py, line 465\n"
     ]
    }
   ],
   "source": [
    "loompy.combine(loom_files,results_dir + \"/Replicates.Merged.loom\")"
   ]
  },
  {
   "cell_type": "code",
   "execution_count": 7,
   "metadata": {},
   "outputs": [],
   "source": [
    "#ds = loompy.connect(results_dir + \"/Replicates.Merged.loom\")"
   ]
  },
  {
   "cell_type": "code",
   "execution_count": 8,
   "metadata": {},
   "outputs": [],
   "source": [
    "#print(ds.attrs.keys())"
   ]
  },
  {
   "cell_type": "code",
   "execution_count": 9,
   "metadata": {},
   "outputs": [],
   "source": [
    " #print(ds.layers.keys())"
   ]
  },
  {
   "cell_type": "code",
   "execution_count": 10,
   "metadata": {},
   "outputs": [],
   "source": [
    "#print(ds.ca.keys())"
   ]
  },
  {
   "cell_type": "code",
   "execution_count": 11,
   "metadata": {},
   "outputs": [],
   "source": [
    "#ds.shape"
   ]
  },
  {
   "cell_type": "code",
   "execution_count": 12,
   "metadata": {},
   "outputs": [],
   "source": [
    "#ds.ra.keys()"
   ]
  },
  {
   "cell_type": "code",
   "execution_count": 13,
   "metadata": {},
   "outputs": [],
   "source": [
    "#ds.ca.keys()"
   ]
  },
  {
   "cell_type": "code",
   "execution_count": 14,
   "metadata": {},
   "outputs": [],
   "source": [
    "#ds.ra[\"Gene\"]"
   ]
  },
  {
   "cell_type": "code",
   "execution_count": 15,
   "metadata": {},
   "outputs": [],
   "source": [
    "#ds.ca[\"CellID\"]"
   ]
  },
  {
   "cell_type": "code",
   "execution_count": 16,
   "metadata": {},
   "outputs": [],
   "source": [
    "#ds.ca[\"Clusters\"]"
   ]
  },
  {
   "cell_type": "code",
   "execution_count": null,
   "metadata": {},
   "outputs": [],
   "source": []
  }
 ],
 "metadata": {
  "kernelspec": {
   "display_name": "Python 3",
   "language": "python",
   "name": "python3"
  },
  "language_info": {
   "codemirror_mode": {
    "name": "ipython",
    "version": 3
   },
   "file_extension": ".py",
   "mimetype": "text/x-python",
   "name": "python",
   "nbconvert_exporter": "python",
   "pygments_lexer": "ipython3",
   "version": "3.7.9"
  }
 },
 "nbformat": 4,
 "nbformat_minor": 4
}
