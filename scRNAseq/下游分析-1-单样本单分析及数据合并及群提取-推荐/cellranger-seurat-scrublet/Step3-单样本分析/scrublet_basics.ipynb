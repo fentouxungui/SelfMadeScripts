{
 "cells": [
  {
   "cell_type": "markdown",
   "metadata": {},
   "source": [
    "This example shows how to:  \n",
    "1. Load a counts matrix (10X Chromium data from human peripheral blood cells)\n",
    "2. Run the default Scrublet pipeline \n",
    "3. Check that doublet predictions make sense"
   ]
  },
  {
   "cell_type": "code",
   "execution_count": 1,
   "metadata": {
    "execution": {
     "iopub.execute_input": "2022-05-10T08:34:16.872354Z",
     "iopub.status.busy": "2022-05-10T08:34:16.872148Z",
     "iopub.status.idle": "2022-05-10T08:34:17.997514Z",
     "shell.execute_reply": "2022-05-10T08:34:17.996402Z"
    }
   },
   "outputs": [],
   "source": [
    "%matplotlib inline\n",
    "import scrublet as scr\n",
    "import scipy.io\n",
    "import matplotlib.pyplot as plt\n",
    "import numpy as np\n",
    "import os\n",
    "import matplotlib\n",
    "matplotlib.use('TkAgg')"
   ]
  },
  {
   "cell_type": "code",
   "execution_count": 2,
   "metadata": {
    "execution": {
     "iopub.execute_input": "2022-05-10T08:34:18.002832Z",
     "iopub.status.busy": "2022-05-10T08:34:18.002520Z",
     "iopub.status.idle": "2022-05-10T08:34:18.007607Z",
     "shell.execute_reply": "2022-05-10T08:34:18.006861Z"
    }
   },
   "outputs": [],
   "source": [
    "plt.rcParams['font.family'] = 'sans-serif'\n",
    "# plt.rcParams['font.sans-serif'] = 'Arial'\n",
    "plt.rc('font', size=14)\n",
    "plt.rcParams['pdf.fonttype'] = 42"
   ]
  },
  {
   "cell_type": "markdown",
   "metadata": {},
   "source": [
    "#### Download 8k PBMC data set from 10X Genomics\n",
    "Download raw data from this link:\n",
    "http://cf.10xgenomics.com/samples/cell-exp/2.1.0/pbmc8k/pbmc8k_filtered_gene_bc_matrices.tar.gz\n",
    "\n",
    "\n",
    "Or use wget:"
   ]
  },
  {
   "cell_type": "code",
   "execution_count": 3,
   "metadata": {
    "execution": {
     "iopub.execute_input": "2022-05-10T08:34:18.011565Z",
     "iopub.status.busy": "2022-05-10T08:34:18.011287Z",
     "iopub.status.idle": "2022-05-10T08:34:18.015399Z",
     "shell.execute_reply": "2022-05-10T08:34:18.014674Z"
    }
   },
   "outputs": [],
   "source": [
    "# !wget http://cf.10xgenomics.com/samples/cell-exp/2.1.0/pbmc8k/pbmc8k_filtered_gene_bc_matrices.tar.gz"
   ]
  },
  {
   "cell_type": "markdown",
   "metadata": {},
   "source": [
    "Uncompress:"
   ]
  },
  {
   "cell_type": "code",
   "execution_count": 4,
   "metadata": {
    "execution": {
     "iopub.execute_input": "2022-05-10T08:34:18.019219Z",
     "iopub.status.busy": "2022-05-10T08:34:18.018965Z",
     "iopub.status.idle": "2022-05-10T08:34:18.022343Z",
     "shell.execute_reply": "2022-05-10T08:34:18.021661Z"
    }
   },
   "outputs": [],
   "source": [
    "# !tar xfz pbmc8k_filtered_gene_bc_matrices.tar.gz"
   ]
  },
  {
   "cell_type": "markdown",
   "metadata": {},
   "source": [
    "#### Load counts matrix and gene list\n",
    "Load the raw counts matrix as a scipy sparse matrix with cells as rows and genes as columns."
   ]
  },
  {
   "cell_type": "code",
   "execution_count": 5,
   "metadata": {
    "execution": {
     "iopub.execute_input": "2022-05-10T08:34:18.025598Z",
     "iopub.status.busy": "2022-05-10T08:34:18.025328Z",
     "iopub.status.idle": "2022-05-10T08:34:53.399669Z",
     "shell.execute_reply": "2022-05-10T08:34:53.398690Z"
    }
   },
   "outputs": [
    {
     "name": "stdout",
     "output_type": "stream",
     "text": [
      "Counts matrix shape: 6818 rows, 31053 columns\n"
     ]
    }
   ],
   "source": [
    "input_dir = './3.1-QC-Passed-Cells-Rds/'\n",
    "counts_matrix = scipy.io.mmread(input_dir + '/UMI.mtx').T.tocsc()\n",
    "\n",
    "print('Counts matrix shape: {} rows, {} columns'.format(counts_matrix.shape[0], counts_matrix.shape[1]))"
   ]
  },
  {
   "cell_type": "markdown",
   "metadata": {},
   "source": [
    "#### Initialize Scrublet object\n",
    "The relevant parameters are:\n",
    "- *expected_doublet_rate*: the expected fraction of transcriptomes that are doublets, typically 0.05-0.1. Results are not particularly sensitive to this parameter. For this example, the expected doublet rate comes from the Chromium User Guide: https://support.10xgenomics.com/permalink/3vzDu3zQjY0o2AqkkkI4CC\n",
    "- *sim_doublet_ratio*: the number of doublets to simulate, relative to the number of observed transcriptomes. This should be high enough that all doublet states are well-represented by simulated doublets. Setting it too high is computationally expensive. The default value is 2, though values as low as 0.5 give very similar results for the datasets that have been tested.\n",
    "- *n_neighbors*: Number of neighbors used to construct the KNN classifier of observed transcriptomes and simulated doublets. The default value of `round(0.5*sqrt(n_cells))` generally works well.\n"
   ]
  },
  {
   "cell_type": "code",
   "execution_count": 6,
   "metadata": {
    "execution": {
     "iopub.execute_input": "2022-05-10T08:34:53.447979Z",
     "iopub.status.busy": "2022-05-10T08:34:53.447690Z",
     "iopub.status.idle": "2022-05-10T08:34:53.504455Z",
     "shell.execute_reply": "2022-05-10T08:34:53.503492Z"
    }
   },
   "outputs": [],
   "source": [
    "scrub = scr.Scrublet(counts_matrix, expected_doublet_rate=0.06)"
   ]
  },
  {
   "cell_type": "markdown",
   "metadata": {},
   "source": [
    "#### Run the default pipeline, which includes:\n",
    "1. Doublet simulation\n",
    "2. Normalization, gene filtering, rescaling, PCA\n",
    "3. Doublet score calculation \n",
    "4. Doublet score threshold detection and doublet calling\n"
   ]
  },
  {
   "cell_type": "code",
   "execution_count": 7,
   "metadata": {
    "execution": {
     "iopub.execute_input": "2022-05-10T08:34:53.509336Z",
     "iopub.status.busy": "2022-05-10T08:34:53.509134Z",
     "iopub.status.idle": "2022-05-10T08:35:02.978571Z",
     "shell.execute_reply": "2022-05-10T08:35:02.977852Z"
    }
   },
   "outputs": [
    {
     "name": "stdout",
     "output_type": "stream",
     "text": [
      "Preprocessing...\n",
      "Simulating doublets...\n",
      "Embedding transcriptomes using PCA...\n",
      "Calculating doublet scores...\n",
      "Automatically set threshold at doublet score = 0.62\n",
      "Detected doublet rate = 0.2%\n",
      "Estimated detectable doublet fraction = 3.8%\n",
      "Overall doublet rate:\n",
      "\tExpected   = 6.0%\n",
      "\tEstimated  = 4.3%\n",
      "Elapsed time: 9.5 seconds\n"
     ]
    }
   ],
   "source": [
    "doublet_scores, predicted_doublets = scrub.scrub_doublets(min_counts=2, \n",
    "                                                          min_cells=3, \n",
    "                                                          min_gene_variability_pctl=85, \n",
    "                                                          n_prin_comps=30)\n"
   ]
  },
  {
   "cell_type": "code",
   "execution_count": 8,
   "metadata": {
    "execution": {
     "iopub.execute_input": "2022-05-10T08:35:02.982828Z",
     "iopub.status.busy": "2022-05-10T08:35:02.982675Z",
     "iopub.status.idle": "2022-05-10T08:35:03.000682Z",
     "shell.execute_reply": "2022-05-10T08:35:02.999872Z"
    }
   },
   "outputs": [],
   "source": [
    "np.savetxt(input_dir + \"scrublet.score.txt\",scrub.doublet_scores_obs_)        "
   ]
  },
  {
   "cell_type": "markdown",
   "metadata": {},
   "source": [
    "#### Plot doublet score histograms  for observed transcriptomes and simulated doublets\n",
    "The simulated doublet histogram is typically bimodal. The left mode corresponds to \"embedded\" doublets generated by two cells with similar gene expression. The right mode corresponds to \"neotypic\" doublets, which are generated by cells with distinct gene expression (e.g., different cell types) and are expected to introduce more artifacts in downstream analyses. Scrublet can only detect neotypic doublets.  \n",
    "  \n",
    "To call doublets vs. singlets, we must set a threshold doublet score, ideally at the minimum between the two modes of the simulated doublet histogram. `scrub_doublets()` attempts to identify this point automatically and has done a good job in this example. However, if automatic threshold detection doesn't work well, you can adjust the threshold with the `call_doublets()` function. For example:\n",
    "```python\n",
    "scrub.call_doublets(threshold=0.25)\n",
    "```"
   ]
  },
  {
   "cell_type": "code",
   "execution_count": 9,
   "metadata": {
    "execution": {
     "iopub.execute_input": "2022-05-10T08:35:03.004437Z",
     "iopub.status.busy": "2022-05-10T08:35:03.004281Z",
     "iopub.status.idle": "2022-05-10T08:35:03.518107Z",
     "shell.execute_reply": "2022-05-10T08:35:03.517262Z"
    }
   },
   "outputs": [],
   "source": [
    "scrub.plot_histogram()\n",
    "plt.savefig(\"scrublet.score.png\")"
   ]
  },
  {
   "cell_type": "markdown",
   "metadata": {},
   "source": [
    "#### Get 2-D embedding to visualize the results"
   ]
  },
  {
   "cell_type": "code",
   "execution_count": 10,
   "metadata": {
    "execution": {
     "iopub.execute_input": "2022-05-10T08:35:03.522500Z",
     "iopub.status.busy": "2022-05-10T08:35:03.522343Z",
     "iopub.status.idle": "2022-05-10T08:35:26.422648Z",
     "shell.execute_reply": "2022-05-10T08:35:26.421817Z"
    }
   },
   "outputs": [
    {
     "name": "stdout",
     "output_type": "stream",
     "text": [
      "Running UMAP...\n"
     ]
    }
   ],
   "source": [
    "print('Running UMAP...')\n",
    "scrub.set_embedding('UMAP', scr.get_umap(scrub.manifold_obs_, 10, min_dist=0.3))\n",
    "\n",
    "# # # Uncomment to run tSNE - slow\n",
    "# # print('Running tSNE...')\n",
    "# # scrub.set_embedding('tSNE', scr.get_tsne(scrub.manifold_obs_, angle=0.9))\n",
    "\n",
    "# # # Uncomment to run force layout - slow\n",
    "# # print('Running ForceAtlas2...')\n",
    "# # scrub.set_embedding('FA', scr.get_force_layout(scrub.manifold_obs_, n_neighbors=5. n_iter=1000))\n",
    "    \n",
    "# print('Done.')"
   ]
  },
  {
   "cell_type": "markdown",
   "metadata": {},
   "source": [
    "#### Plot doublet predictions on 2-D embedding\n",
    "Predicted doublets should co-localize in distinct states."
   ]
  },
  {
   "cell_type": "code",
   "execution_count": 11,
   "metadata": {
    "execution": {
     "iopub.execute_input": "2022-05-10T08:35:26.427518Z",
     "iopub.status.busy": "2022-05-10T08:35:26.427274Z",
     "iopub.status.idle": "2022-05-10T08:35:26.699681Z",
     "shell.execute_reply": "2022-05-10T08:35:26.698980Z"
    }
   },
   "outputs": [],
   "source": [
    "scrub.plot_embedding('UMAP', order_points=True)\n",
    "plt.savefig(\"scrublet.umap.png\")\n",
    "# # scrub.plot_embedding('tSNE', order_points=True);\n",
    "# # scrub.plot_embedding('FA', order_points=True);"
   ]
  },
  {
   "cell_type": "code",
   "execution_count": null,
   "metadata": {},
   "outputs": [],
   "source": []
  }
 ],
 "metadata": {
  "kernelspec": {
   "display_name": "Python 3",
   "language": "python",
   "name": "python3"
  },
  "language_info": {
   "codemirror_mode": {
    "name": "ipython",
    "version": 3
   },
   "file_extension": ".py",
   "mimetype": "text/x-python",
   "name": "python",
   "nbconvert_exporter": "python",
   "pygments_lexer": "ipython3",
   "version": "3.7.3"
  }
 },
 "nbformat": 4,
 "nbformat_minor": 2
}
