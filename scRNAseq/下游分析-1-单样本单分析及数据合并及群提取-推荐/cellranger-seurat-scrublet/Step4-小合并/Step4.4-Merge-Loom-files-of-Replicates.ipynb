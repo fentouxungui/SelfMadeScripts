{
 "cells": [
  {
   "cell_type": "code",
   "execution_count": 1,
   "metadata": {
    "execution": {
     "iopub.execute_input": "2022-05-17T09:55:46.199615Z",
     "iopub.status.busy": "2022-05-17T09:55:46.199239Z",
     "iopub.status.idle": "2022-05-17T09:55:48.690452Z",
     "shell.execute_reply": "2022-05-17T09:55:48.689536Z"
    }
   },
   "outputs": [],
   "source": [
    "import loompy\n",
    "import os\n",
    "import pandas as pd"
   ]
  },
  {
   "cell_type": "code",
   "execution_count": 2,
   "metadata": {
    "execution": {
     "iopub.execute_input": "2022-05-17T09:55:48.693929Z",
     "iopub.status.busy": "2022-05-17T09:55:48.693753Z",
     "iopub.status.idle": "2022-05-17T09:55:48.717986Z",
     "shell.execute_reply": "2022-05-17T09:55:48.717455Z"
    }
   },
   "outputs": [
    {
     "data": {
      "text/plain": [
       "['/home/xilab/jiangdx/scRNAseq/scRNAseq-Mouse-Small-Intestine/CellRanger-Outputs/E_SI_D195_B1',\n",
       " '/home/xilab/jiangdx/scRNAseq/scRNAseq-Mouse-Small-Intestine/CellRanger-Outputs/E_SI_D115_B2',\n",
       " '/home/xilab/jiangdx/scRNAseq/scRNAseq-Mouse-Small-Intestine/CellRanger-Outputs/E_SI_D135_B1',\n",
       " '/home/xilab/jiangdx/scRNAseq/scRNAseq-Mouse-Small-Intestine/CellRanger-Outputs/E_SI_D125_B1',\n",
       " '/home/xilab/jiangdx/scRNAseq/scRNAseq-Mouse-Small-Intestine/CellRanger-Outputs/E_SI_D145_B0',\n",
       " '/home/xilab/jiangdx/scRNAseq/scRNAseq-Mouse-Small-Intestine/CellRanger-Outputs/P_SI_D7_B0',\n",
       " '/home/xilab/jiangdx/scRNAseq/scRNAseq-Mouse-Small-Intestine/CellRanger-Outputs/P_SI_D1_B0',\n",
       " '/home/xilab/jiangdx/scRNAseq/scRNAseq-Mouse-Small-Intestine/CellRanger-Outputs/E_SI_D195_B0',\n",
       " '/home/xilab/jiangdx/scRNAseq/scRNAseq-Mouse-Small-Intestine/CellRanger-Outputs/P_SI_D21_B0',\n",
       " '/home/xilab/jiangdx/scRNAseq/scRNAseq-Mouse-Small-Intestine/CellRanger-Outputs/E_SI_D135_B3',\n",
       " '/home/xilab/jiangdx/scRNAseq/scRNAseq-Mouse-Small-Intestine/CellRanger-Outputs/E_SI_D135_B2',\n",
       " '/home/xilab/jiangdx/scRNAseq/scRNAseq-Mouse-Small-Intestine/CellRanger-Outputs/E_SI_D125_B2',\n",
       " '/home/xilab/jiangdx/scRNAseq/scRNAseq-Mouse-Small-Intestine/CellRanger-Outputs/E_SI_D115_B1',\n",
       " '/home/xilab/jiangdx/scRNAseq/scRNAseq-Mouse-Small-Intestine/CellRanger-Outputs/E_SI_D195_B2',\n",
       " '/home/xilab/jiangdx/scRNAseq/scRNAseq-Mouse-Small-Intestine/CellRanger-Outputs/E_SI_D155_B0',\n",
       " '/home/xilab/jiangdx/scRNAseq/scRNAseq-Mouse-Small-Intestine/CellRanger-Outputs/P_SI_DAdult_B0',\n",
       " '/home/xilab/jiangdx/scRNAseq/scRNAseq-Mouse-Small-Intestine/CellRanger-Outputs/P_SI_D1_JZ',\n",
       " '/home/xilab/jiangdx/scRNAseq/scRNAseq-Mouse-Small-Intestine/CellRanger-Outputs/P_SI_D21_JZ',\n",
       " '/home/xilab/jiangdx/scRNAseq/scRNAseq-Mouse-Small-Intestine/CellRanger-Outputs/P_SI_D7_JZ',\n",
       " '/home/xilab/jiangdx/scRNAseq/scRNAseq-Mouse-Small-Intestine/CellRanger-Outputs/E_SI_D135_B0']"
      ]
     },
     "execution_count": 2,
     "metadata": {},
     "output_type": "execute_result"
    }
   ],
   "source": [
    "cellranger_dir = \"/home/xilab/jiangdx/scRNAseq/scRNAseq-Mouse-Small-Intestine/CellRanger-Outputs/\"\n",
    "sample_dirs = []\n",
    "for i in os.listdir(cellranger_dir):\n",
    "    if os.path.isdir(cellranger_dir +  i):\n",
    "        sample_dirs.append(cellranger_dir + i)\n",
    "sample_dirs"
   ]
  },
  {
   "cell_type": "code",
   "execution_count": 3,
   "metadata": {
    "execution": {
     "iopub.execute_input": "2022-05-17T09:55:48.745893Z",
     "iopub.status.busy": "2022-05-17T09:55:48.745545Z",
     "iopub.status.idle": "2022-05-17T09:55:48.883065Z",
     "shell.execute_reply": "2022-05-17T09:55:48.881917Z"
    }
   },
   "outputs": [],
   "source": [
    "cell_clusters = pd.read_csv(\"./4.4-scVelo/clusters.csv\")\n",
    "selected_samples = cell_clusters[\"orig.ident\"].unique()"
   ]
  },
  {
   "cell_type": "code",
   "execution_count": 4,
   "metadata": {
    "execution": {
     "iopub.execute_input": "2022-05-17T09:55:48.886484Z",
     "iopub.status.busy": "2022-05-17T09:55:48.886307Z",
     "iopub.status.idle": "2022-05-17T09:55:48.894924Z",
     "shell.execute_reply": "2022-05-17T09:55:48.894304Z"
    }
   },
   "outputs": [
    {
     "name": "stdout",
     "output_type": "stream",
     "text": [
      "/home/xilab/jiangdx/scRNAseq/scRNAseq-Mouse-Small-Intestine/CellRanger-Outputs/E_SI_D115_B2\n",
      "Done!\n",
      "/home/xilab/jiangdx/scRNAseq/scRNAseq-Mouse-Small-Intestine/CellRanger-Outputs/E_SI_D115_B1\n",
      "Done!\n"
     ]
    },
    {
     "data": {
      "text/plain": [
       "['/home/xilab/jiangdx/scRNAseq/scRNAseq-Mouse-Small-Intestine/CellRanger-Outputs/E_SI_D115_B2/velocyto/E_SI_D115_B2.loom',\n",
       " '/home/xilab/jiangdx/scRNAseq/scRNAseq-Mouse-Small-Intestine/CellRanger-Outputs/E_SI_D115_B1/velocyto/E_SI_D115_B1.loom']"
      ]
     },
     "execution_count": 4,
     "metadata": {},
     "output_type": "execute_result"
    }
   ],
   "source": [
    "loom_files = []\n",
    "for i in sample_dirs:\n",
    "    if os.path.basename(i) not in selected_samples:\n",
    "        continue\n",
    "    if os.path.exists(i + \"/velocyto\"):\n",
    "        print(i)\n",
    "        if os.path.exists(i + \"/velocyto/\" + os.path.basename(i) + \".loom\"):\n",
    "            loom_files.append(i + \"/velocyto/\" + os.path.basename(i) + \".loom\")\n",
    "            print(\"Done!\")\n",
    "        else:\n",
    "            print(\"Not finished analysis!\")\n",
    "loom_files"
   ]
  },
  {
   "cell_type": "code",
   "execution_count": 5,
   "metadata": {
    "execution": {
     "iopub.execute_input": "2022-05-17T09:55:48.897402Z",
     "iopub.status.busy": "2022-05-17T09:55:48.897246Z",
     "iopub.status.idle": "2022-05-17T09:55:48.900975Z",
     "shell.execute_reply": "2022-05-17T09:55:48.900138Z"
    }
   },
   "outputs": [],
   "source": [
    "results_dir = \"./4.4-scVelo\"\n",
    "if not os.path.exists(results_dir):\n",
    "    os.mkdir(results_dir)"
   ]
  },
  {
   "cell_type": "code",
   "execution_count": 6,
   "metadata": {
    "execution": {
     "iopub.execute_input": "2022-05-17T09:55:48.903508Z",
     "iopub.status.busy": "2022-05-17T09:55:48.903329Z",
     "iopub.status.idle": "2022-05-17T09:56:33.174704Z",
     "shell.execute_reply": "2022-05-17T09:56:33.173766Z"
    }
   },
   "outputs": [
    {
     "name": "stderr",
     "output_type": "stream",
     "text": [
      "WARNING:root:╭── 'batch_scan_layers' is deprecated. Use 'scan' instead\n",
      "WARNING:root:╰──> at /home/xilab/miniconda3/envs/scanpy-latest-py38/lib/python3.8/site-packages/loompy/loompy.py, line 465\n"
     ]
    }
   ],
   "source": [
    "loompy.combine(loom_files,results_dir + \"/Replicates.Merged.loom\")"
   ]
  },
  {
   "cell_type": "code",
   "execution_count": 7,
   "metadata": {
    "execution": {
     "iopub.execute_input": "2022-05-17T09:56:33.179741Z",
     "iopub.status.busy": "2022-05-17T09:56:33.179554Z",
     "iopub.status.idle": "2022-05-17T09:56:33.183367Z",
     "shell.execute_reply": "2022-05-17T09:56:33.182782Z"
    }
   },
   "outputs": [],
   "source": [
    "#ds = loompy.connect(results_dir + \"/Replicates.Merged.loom\")"
   ]
  },
  {
   "cell_type": "code",
   "execution_count": 8,
   "metadata": {
    "execution": {
     "iopub.execute_input": "2022-05-17T09:56:33.187607Z",
     "iopub.status.busy": "2022-05-17T09:56:33.187440Z",
     "iopub.status.idle": "2022-05-17T09:56:33.190089Z",
     "shell.execute_reply": "2022-05-17T09:56:33.189522Z"
    }
   },
   "outputs": [],
   "source": [
    "#print(ds.attrs.keys())"
   ]
  },
  {
   "cell_type": "code",
   "execution_count": 9,
   "metadata": {
    "execution": {
     "iopub.execute_input": "2022-05-17T09:56:33.194281Z",
     "iopub.status.busy": "2022-05-17T09:56:33.193912Z",
     "iopub.status.idle": "2022-05-17T09:56:33.196629Z",
     "shell.execute_reply": "2022-05-17T09:56:33.196076Z"
    }
   },
   "outputs": [],
   "source": [
    " #print(ds.layers.keys())"
   ]
  },
  {
   "cell_type": "code",
   "execution_count": 10,
   "metadata": {
    "execution": {
     "iopub.execute_input": "2022-05-17T09:56:33.200438Z",
     "iopub.status.busy": "2022-05-17T09:56:33.200216Z",
     "iopub.status.idle": "2022-05-17T09:56:33.202876Z",
     "shell.execute_reply": "2022-05-17T09:56:33.202288Z"
    }
   },
   "outputs": [],
   "source": [
    "#print(ds.ca.keys())"
   ]
  },
  {
   "cell_type": "code",
   "execution_count": 11,
   "metadata": {
    "execution": {
     "iopub.execute_input": "2022-05-17T09:56:33.206614Z",
     "iopub.status.busy": "2022-05-17T09:56:33.206405Z",
     "iopub.status.idle": "2022-05-17T09:56:33.209340Z",
     "shell.execute_reply": "2022-05-17T09:56:33.208479Z"
    }
   },
   "outputs": [],
   "source": [
    "#ds.shape"
   ]
  },
  {
   "cell_type": "code",
   "execution_count": 12,
   "metadata": {
    "execution": {
     "iopub.execute_input": "2022-05-17T09:56:33.214292Z",
     "iopub.status.busy": "2022-05-17T09:56:33.213648Z",
     "iopub.status.idle": "2022-05-17T09:56:33.217590Z",
     "shell.execute_reply": "2022-05-17T09:56:33.216743Z"
    }
   },
   "outputs": [],
   "source": [
    "#ds.ra.keys()"
   ]
  },
  {
   "cell_type": "code",
   "execution_count": 13,
   "metadata": {
    "execution": {
     "iopub.execute_input": "2022-05-17T09:56:33.222064Z",
     "iopub.status.busy": "2022-05-17T09:56:33.221744Z",
     "iopub.status.idle": "2022-05-17T09:56:33.225391Z",
     "shell.execute_reply": "2022-05-17T09:56:33.224572Z"
    }
   },
   "outputs": [],
   "source": [
    "#ds.ca.keys()"
   ]
  },
  {
   "cell_type": "code",
   "execution_count": 14,
   "metadata": {
    "execution": {
     "iopub.execute_input": "2022-05-17T09:56:33.229807Z",
     "iopub.status.busy": "2022-05-17T09:56:33.229261Z",
     "iopub.status.idle": "2022-05-17T09:56:33.232913Z",
     "shell.execute_reply": "2022-05-17T09:56:33.232115Z"
    }
   },
   "outputs": [],
   "source": [
    "#ds.ra[\"Gene\"]"
   ]
  },
  {
   "cell_type": "code",
   "execution_count": 15,
   "metadata": {
    "execution": {
     "iopub.execute_input": "2022-05-17T09:56:33.237189Z",
     "iopub.status.busy": "2022-05-17T09:56:33.236874Z",
     "iopub.status.idle": "2022-05-17T09:56:33.240392Z",
     "shell.execute_reply": "2022-05-17T09:56:33.239632Z"
    }
   },
   "outputs": [],
   "source": [
    "#ds.ca[\"CellID\"]"
   ]
  },
  {
   "cell_type": "code",
   "execution_count": 16,
   "metadata": {
    "execution": {
     "iopub.execute_input": "2022-05-17T09:56:33.244330Z",
     "iopub.status.busy": "2022-05-17T09:56:33.244033Z",
     "iopub.status.idle": "2022-05-17T09:56:33.247513Z",
     "shell.execute_reply": "2022-05-17T09:56:33.246756Z"
    }
   },
   "outputs": [],
   "source": [
    "#ds.ca[\"Clusters\"]"
   ]
  },
  {
   "cell_type": "code",
   "execution_count": null,
   "metadata": {},
   "outputs": [],
   "source": []
  }
 ],
 "metadata": {
  "kernelspec": {
   "display_name": "Python 3 (ipykernel)",
   "language": "python",
   "name": "python3"
  },
  "language_info": {
   "codemirror_mode": {
    "name": "ipython",
    "version": 3
   },
   "file_extension": ".py",
   "mimetype": "text/x-python",
   "name": "python",
   "nbconvert_exporter": "python",
   "pygments_lexer": "ipython3",
   "version": "3.8.0"
  }
 },
 "nbformat": 4,
 "nbformat_minor": 4
}
