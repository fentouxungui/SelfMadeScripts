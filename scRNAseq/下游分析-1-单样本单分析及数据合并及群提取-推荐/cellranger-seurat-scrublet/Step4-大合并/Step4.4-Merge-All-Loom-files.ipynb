{
 "cells": [
  {
   "cell_type": "code",
   "execution_count": 1,
   "metadata": {
    "execution": {
     "iopub.execute_input": "2022-07-21T07:12:39.156562Z",
     "iopub.status.busy": "2022-07-21T07:12:39.156017Z",
     "iopub.status.idle": "2022-07-21T07:12:41.606453Z",
     "shell.execute_reply": "2022-07-21T07:12:41.605512Z"
    }
   },
   "outputs": [],
   "source": [
    "import loompy\n",
    "import os"
   ]
  },
  {
   "cell_type": "code",
   "execution_count": 2,
   "metadata": {
    "execution": {
     "iopub.execute_input": "2022-07-21T07:12:41.611727Z",
     "iopub.status.busy": "2022-07-21T07:12:41.611547Z",
     "iopub.status.idle": "2022-07-21T07:12:41.623725Z",
     "shell.execute_reply": "2022-07-21T07:12:41.622920Z"
    }
   },
   "outputs": [
    {
     "data": {
      "text/plain": [
       "['/home/xilab/jiangdx/scRNAseq/scRNAseq-Mouse-Small-Intestine-Lmo3/CellRanger-Outputs/Mouse-SI-Lmo3-E155-E195-R1',\n",
       " '/home/xilab/jiangdx/scRNAseq/scRNAseq-Mouse-Small-Intestine-Lmo3/CellRanger-Outputs/Mouse-SI-Lmo3-E135-3TAM-E195-R1',\n",
       " '/home/xilab/jiangdx/scRNAseq/scRNAseq-Mouse-Small-Intestine-Lmo3/CellRanger-Outputs/Mouse-SI-Lmo3-P11d-3TAM-P21d-F',\n",
       " '/home/xilab/jiangdx/scRNAseq/scRNAseq-Mouse-Small-Intestine-Lmo3/CellRanger-Outputs/Mouse-SI-Lmo3-E135-3TAM-E195-R2',\n",
       " '/home/xilab/jiangdx/scRNAseq/scRNAseq-Mouse-Small-Intestine-Lmo3/CellRanger-Outputs/Mouse-SI-Lmo3-P11d-3TAM-P21d-M']"
      ]
     },
     "execution_count": 2,
     "metadata": {},
     "output_type": "execute_result"
    }
   ],
   "source": [
    "cellranger_dir = \"/home/xilab/jiangdx/scRNAseq/scRNAseq-Mouse-Small-Intestine-Lmo3/CellRanger-Outputs/\"\n",
    "sample_dirs = []\n",
    "for i in os.listdir(cellranger_dir):\n",
    "    if os.path.isdir(cellranger_dir +  i):\n",
    "        sample_dirs.append(cellranger_dir + i)\n",
    "sample_dirs"
   ]
  },
  {
   "cell_type": "code",
   "execution_count": 3,
   "metadata": {
    "execution": {
     "iopub.execute_input": "2022-07-21T07:12:41.674156Z",
     "iopub.status.busy": "2022-07-21T07:12:41.673907Z",
     "iopub.status.idle": "2022-07-21T07:12:41.686206Z",
     "shell.execute_reply": "2022-07-21T07:12:41.685443Z"
    }
   },
   "outputs": [
    {
     "name": "stdout",
     "output_type": "stream",
     "text": [
      "/home/xilab/jiangdx/scRNAseq/scRNAseq-Mouse-Small-Intestine-Lmo3/CellRanger-Outputs/Mouse-SI-Lmo3-E155-E195-R1\n",
      "Done!\n",
      "/home/xilab/jiangdx/scRNAseq/scRNAseq-Mouse-Small-Intestine-Lmo3/CellRanger-Outputs/Mouse-SI-Lmo3-E135-3TAM-E195-R1\n",
      "Done!\n",
      "/home/xilab/jiangdx/scRNAseq/scRNAseq-Mouse-Small-Intestine-Lmo3/CellRanger-Outputs/Mouse-SI-Lmo3-P11d-3TAM-P21d-F\n",
      "Done!\n",
      "/home/xilab/jiangdx/scRNAseq/scRNAseq-Mouse-Small-Intestine-Lmo3/CellRanger-Outputs/Mouse-SI-Lmo3-E135-3TAM-E195-R2\n",
      "Done!\n",
      "/home/xilab/jiangdx/scRNAseq/scRNAseq-Mouse-Small-Intestine-Lmo3/CellRanger-Outputs/Mouse-SI-Lmo3-P11d-3TAM-P21d-M\n",
      "Done!\n"
     ]
    },
    {
     "data": {
      "text/plain": [
       "['/home/xilab/jiangdx/scRNAseq/scRNAseq-Mouse-Small-Intestine-Lmo3/CellRanger-Outputs/Mouse-SI-Lmo3-E155-E195-R1/velocyto/Mouse-SI-Lmo3-E155-E195-R1.loom',\n",
       " '/home/xilab/jiangdx/scRNAseq/scRNAseq-Mouse-Small-Intestine-Lmo3/CellRanger-Outputs/Mouse-SI-Lmo3-E135-3TAM-E195-R1/velocyto/Mouse-SI-Lmo3-E135-3TAM-E195-R1.loom',\n",
       " '/home/xilab/jiangdx/scRNAseq/scRNAseq-Mouse-Small-Intestine-Lmo3/CellRanger-Outputs/Mouse-SI-Lmo3-P11d-3TAM-P21d-F/velocyto/Mouse-SI-Lmo3-P11d-3TAM-P21d-F.loom',\n",
       " '/home/xilab/jiangdx/scRNAseq/scRNAseq-Mouse-Small-Intestine-Lmo3/CellRanger-Outputs/Mouse-SI-Lmo3-E135-3TAM-E195-R2/velocyto/Mouse-SI-Lmo3-E135-3TAM-E195-R2.loom',\n",
       " '/home/xilab/jiangdx/scRNAseq/scRNAseq-Mouse-Small-Intestine-Lmo3/CellRanger-Outputs/Mouse-SI-Lmo3-P11d-3TAM-P21d-M/velocyto/Mouse-SI-Lmo3-P11d-3TAM-P21d-M.loom']"
      ]
     },
     "execution_count": 3,
     "metadata": {},
     "output_type": "execute_result"
    }
   ],
   "source": [
    "loom_files = []\n",
    "for i in sample_dirs:\n",
    "    if os.path.exists(i + \"/velocyto\"):\n",
    "        print(i)\n",
    "        if os.path.exists(i + \"/velocyto/\" + os.path.basename(i) + \".loom\"):\n",
    "            loom_files.append(i + \"/velocyto/\" + os.path.basename(i) + \".loom\")\n",
    "            print(\"Done!\")\n",
    "        else:\n",
    "            print(\"Not finished analysis!\")\n",
    "loom_files"
   ]
  },
  {
   "cell_type": "code",
   "execution_count": 4,
   "metadata": {
    "execution": {
     "iopub.execute_input": "2022-07-21T07:12:41.689914Z",
     "iopub.status.busy": "2022-07-21T07:12:41.689604Z",
     "iopub.status.idle": "2022-07-21T07:12:41.694210Z",
     "shell.execute_reply": "2022-07-21T07:12:41.693168Z"
    }
   },
   "outputs": [],
   "source": [
    "results_dir = \"./4.4-scVelo\"\n",
    "if not os.path.exists(results_dir):\n",
    "    os.mkdir(results_dir)"
   ]
  },
  {
   "cell_type": "code",
   "execution_count": 5,
   "metadata": {
    "execution": {
     "iopub.execute_input": "2022-07-21T07:12:41.697841Z",
     "iopub.status.busy": "2022-07-21T07:12:41.697518Z",
     "iopub.status.idle": "2022-07-21T07:12:41.703790Z",
     "shell.execute_reply": "2022-07-21T07:12:41.702986Z"
    }
   },
   "outputs": [
    {
     "data": {
      "text/plain": [
       "['/home/xilab/jiangdx/scRNAseq/scRNAseq-Mouse-Small-Intestine-Lmo3/CellRanger-Outputs/Mouse-SI-Lmo3-E135-3TAM-E195-R1/velocyto/Mouse-SI-Lmo3-E135-3TAM-E195-R1.loom',\n",
       " '/home/xilab/jiangdx/scRNAseq/scRNAseq-Mouse-Small-Intestine-Lmo3/CellRanger-Outputs/Mouse-SI-Lmo3-E135-3TAM-E195-R2/velocyto/Mouse-SI-Lmo3-E135-3TAM-E195-R2.loom']"
      ]
     },
     "execution_count": 5,
     "metadata": {},
     "output_type": "execute_result"
    }
   ],
   "source": [
    "del loom_files[4]\n",
    "del loom_files[2]\n",
    "del loom_files[0]\n",
    "loom_files"
   ]
  },
  {
   "cell_type": "code",
   "execution_count": 6,
   "metadata": {
    "execution": {
     "iopub.execute_input": "2022-07-21T07:12:41.707317Z",
     "iopub.status.busy": "2022-07-21T07:12:41.707075Z",
     "iopub.status.idle": "2022-07-21T07:13:14.623276Z",
     "shell.execute_reply": "2022-07-21T07:13:14.622380Z"
    }
   },
   "outputs": [
    {
     "name": "stderr",
     "output_type": "stream",
     "text": [
      "WARNING:root:╭── 'batch_scan_layers' is deprecated. Use 'scan' instead\n",
      "WARNING:root:╰──> at /home/xilab/miniconda3/envs/scanpy-latest-py38/lib/python3.8/site-packages/loompy/loompy.py, line 465\n"
     ]
    }
   ],
   "source": [
    "loompy.combine(loom_files,results_dir + \"/merged.loom\")"
   ]
  },
  {
   "cell_type": "code",
   "execution_count": 7,
   "metadata": {
    "execution": {
     "iopub.execute_input": "2022-07-21T07:13:14.628361Z",
     "iopub.status.busy": "2022-07-21T07:13:14.628162Z",
     "iopub.status.idle": "2022-07-21T07:13:14.631511Z",
     "shell.execute_reply": "2022-07-21T07:13:14.630962Z"
    }
   },
   "outputs": [],
   "source": [
    "# ds = loompy.connect(results_dir + \"/merged.loom\")\n",
    "# print(ds.attrs.keys())\n",
    "# print(ds.layers.keys())\n",
    "# print(ds.ca.keys())\n",
    "# ds.shape\n",
    "# ds.ra.keys()\n",
    "# ds.ca[\"CellID\"]\n",
    "# ds.ra[\"Gene\"]\n",
    "# ds.ca.keys()\n",
    "# ds.ca[\"Clusters\"]"
   ]
  },
  {
   "cell_type": "code",
   "execution_count": null,
   "metadata": {},
   "outputs": [],
   "source": []
  }
 ],
 "metadata": {
  "kernelspec": {
   "display_name": "Python 3 (ipykernel)",
   "language": "python",
   "name": "python3"
  },
  "language_info": {
   "codemirror_mode": {
    "name": "ipython",
    "version": 3
   },
   "file_extension": ".py",
   "mimetype": "text/x-python",
   "name": "python",
   "nbconvert_exporter": "python",
   "pygments_lexer": "ipython3",
   "version": "3.8.0"
  }
 },
 "nbformat": 4,
 "nbformat_minor": 4
}
