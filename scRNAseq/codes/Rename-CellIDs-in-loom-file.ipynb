{
 "cells": [
  {
   "cell_type": "code",
   "execution_count": 22,
   "metadata": {},
   "outputs": [],
   "source": [
    "import loompy\n",
    "import numpy as np"
   ]
  },
  {
   "cell_type": "markdown",
   "metadata": {},
   "source": [
    "Reference: [Change cell names in loom file ](https://github.com/linnarsson-lab/loompy/issues/157)"
   ]
  },
  {
   "cell_type": "code",
   "execution_count": 23,
   "metadata": {},
   "outputs": [],
   "source": [
    "ds = loompy.connect(\"./E_SI_D115_B1.loom\")"
   ]
  },
  {
   "cell_type": "code",
   "execution_count": 24,
   "metadata": {},
   "outputs": [],
   "source": [
    "old_ids = ds.ca.CellID[:]"
   ]
  },
  {
   "cell_type": "code",
   "execution_count": 25,
   "metadata": {},
   "outputs": [
    {
     "data": {
      "text/plain": [
       "array(['E_SI_D115_B1:AAATGCCCAGGTCTCGx', 'E_SI_D115_B1:AAAGATGTCCACGTTCx',\n",
       "       'E_SI_D115_B1:AAACCTGAGGTACTCTx', ...,\n",
       "       'E_SI_D115_B1:TTTGTCACAGCAGTTTx', 'E_SI_D115_B1:TTTGTCATCACCATAGx',\n",
       "       'E_SI_D115_B1:TTTGTCACACGACGAAx'], dtype=object)"
      ]
     },
     "execution_count": 25,
     "metadata": {},
     "output_type": "execute_result"
    }
   ],
   "source": [
    "old_ids"
   ]
  },
  {
   "cell_type": "code",
   "execution_count": 19,
   "metadata": {},
   "outputs": [],
   "source": [
    "new_ids = np.array([s.replace(\"E_SI_D115d_B1\",\"E_SI_D115_B1\") for s in old_ids], dtype=object)\n",
    "new_ids"
   ]
  },
  {
   "cell_type": "code",
   "execution_count": 20,
   "metadata": {},
   "outputs": [],
   "source": [
    "ds.ca.CellID = new_ids\n",
    "ds.close()"
   ]
  }
 ],
 "metadata": {
  "kernelspec": {
   "display_name": "Python 3",
   "language": "python",
   "name": "python3"
  },
  "language_info": {
   "codemirror_mode": {
    "name": "ipython",
    "version": 3
   },
   "file_extension": ".py",
   "mimetype": "text/x-python",
   "name": "python",
   "nbconvert_exporter": "python",
   "pygments_lexer": "ipython3",
   "version": "3.7.9"
  }
 },
 "nbformat": 4,
 "nbformat_minor": 4
}
