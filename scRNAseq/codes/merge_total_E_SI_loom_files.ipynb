{
 "cells": [
  {
   "cell_type": "code",
   "execution_count": 1,
   "metadata": {},
   "outputs": [
    {
     "name": "stderr",
     "output_type": "stream",
     "text": [
      "WARNING:root:╭── 'batch_scan_layers' is deprecated. Use 'scan' instead\n",
      "WARNING:root:╰──> at /home/xilab/miniconda3/lib/python3.7/site-packages/loompy/loompy.py, line 465\n",
      "WARNING:root:╭── 'batch_scan_layers' is deprecated. Use 'scan' instead\n",
      "WARNING:root:╰──> at /home/xilab/miniconda3/lib/python3.7/site-packages/loompy/loompy.py, line 465\n",
      "WARNING:root:╭── 'batch_scan_layers' is deprecated. Use 'scan' instead\n",
      "WARNING:root:╰──> at /home/xilab/miniconda3/lib/python3.7/site-packages/loompy/loompy.py, line 465\n",
      "WARNING:root:╭── 'batch_scan_layers' is deprecated. Use 'scan' instead\n",
      "WARNING:root:╰──> at /home/xilab/miniconda3/lib/python3.7/site-packages/loompy/loompy.py, line 465\n",
      "WARNING:root:╭── 'batch_scan_layers' is deprecated. Use 'scan' instead\n",
      "WARNING:root:╰──> at /home/xilab/miniconda3/lib/python3.7/site-packages/loompy/loompy.py, line 465\n",
      "WARNING:root:╭── 'batch_scan_layers' is deprecated. Use 'scan' instead\n",
      "WARNING:root:╰──> at /home/xilab/miniconda3/lib/python3.7/site-packages/loompy/loompy.py, line 465\n",
      "WARNING:root:╭── 'batch_scan_layers' is deprecated. Use 'scan' instead\n",
      "WARNING:root:╰──> at /home/xilab/miniconda3/lib/python3.7/site-packages/loompy/loompy.py, line 465\n",
      "WARNING:root:╭── 'batch_scan_layers' is deprecated. Use 'scan' instead\n",
      "WARNING:root:╰──> at /home/xilab/miniconda3/lib/python3.7/site-packages/loompy/loompy.py, line 465\n",
      "WARNING:root:╭── 'batch_scan_layers' is deprecated. Use 'scan' instead\n",
      "WARNING:root:╰──> at /home/xilab/miniconda3/lib/python3.7/site-packages/loompy/loompy.py, line 465\n",
      "WARNING:root:╭── 'batch_scan_layers' is deprecated. Use 'scan' instead\n",
      "WARNING:root:╰──> at /home/xilab/miniconda3/lib/python3.7/site-packages/loompy/loompy.py, line 465\n",
      "WARNING:root:╭── 'batch_scan_layers' is deprecated. Use 'scan' instead\n",
      "WARNING:root:╰──> at /home/xilab/miniconda3/lib/python3.7/site-packages/loompy/loompy.py, line 465\n",
      "WARNING:root:╭── 'batch_scan_layers' is deprecated. Use 'scan' instead\n",
      "WARNING:root:╰──> at /home/xilab/miniconda3/lib/python3.7/site-packages/loompy/loompy.py, line 465\n",
      "WARNING:root:╭── 'batch_scan_layers' is deprecated. Use 'scan' instead\n",
      "WARNING:root:╰──> at /home/xilab/miniconda3/lib/python3.7/site-packages/loompy/loompy.py, line 465\n"
     ]
    }
   ],
   "source": [
    "import loompy\n",
    "loompy.combine([\n",
    "\"../../CellRanger-Outputs/E_SI_D115_B1/velocyto/E_SI_D115_B1.loom\",\n",
    " \"../../CellRanger-Outputs/E_SI_D115_B2/velocyto/E_SI_D115_B2.loom\",\n",
    " \"../../CellRanger-Outputs/E_SI_D125_B1/velocyto/E_SI_D125_B1.loom\",\n",
    " \"../../CellRanger-Outputs/E_SI_D125_B2/velocyto/E_SI_D125_B2.loom\",\n",
    " \"../../CellRanger-Outputs/E_SI_D135_B1/velocyto/E_SI_D135_B1.loom\",\n",
    " \"../../CellRanger-Outputs/E_SI_D135_B2/velocyto/E_SI_D135_B2.loom\",\n",
    " \"../../CellRanger-Outputs/E_SI_D135_B3/velocyto/E_SI_D135_B3.loom\",\n",
    " \"../../CellRanger-Outputs/E_SI_D145/velocyto/E_SI_D145.loom\",\n",
    " \"../../CellRanger-Outputs/E_SI_D155/velocyto/E_SI_D155.loom\",\n",
    " \"../../CellRanger-Outputs/E_SI_D195_B1/velocyto/E_SI_D195_B1.loom\",\n",
    " \"../../CellRanger-Outputs/E_SI_D195_B2/velocyto/E_SI_D195_B2.loom\",\n",
    " \"../../CellRanger-Outputs/E_SI_D195_B3/velocyto/E_SI_D195_B3.loom\",\n",
    " \"../../CellRanger-Outputs/E_SI_D195_B4/velocyto/E_SI_D195_B4.loom\",\n",
    " \"../../CellRanger-Outputs/E_SI_D195/velocyto/E_SI_D195.loom\"],\n",
    "\"Mouse_Total_E_SI_Samples.loom\")"
   ]
  },
  {
   "cell_type": "code",
   "execution_count": null,
   "metadata": {},
   "outputs": [],
   "source": []
  }
 ],
 "metadata": {
  "kernelspec": {
   "display_name": "Python 3",
   "language": "python",
   "name": "python3"
  },
  "language_info": {
   "codemirror_mode": {
    "name": "ipython",
    "version": 3
   },
   "file_extension": ".py",
   "mimetype": "text/x-python",
   "name": "python",
   "nbconvert_exporter": "python",
   "pygments_lexer": "ipython3",
   "version": "3.7.3"
  }
 },
 "nbformat": 4,
 "nbformat_minor": 4
}
